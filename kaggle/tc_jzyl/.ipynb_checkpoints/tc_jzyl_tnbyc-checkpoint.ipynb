{
 "cells": [
  {
   "cell_type": "code",
   "execution_count": 6,
   "metadata": {
    "collapsed": false
   },
   "outputs": [],
   "source": [
    "import time\n",
    "import datetime\n",
    "import numpy as np\n",
    "import pandas as pd\n",
    "import lightgbm as lgb\n",
    "from dateutil.parser import parse\n",
    "from sklearn.model_selection import KFold\n",
    "from sklearn.metrics import mean_squared_error\n",
    "\n",
    "data_path = '/Users/alan/Downloads/github/kaggle/tc_jzyl/'\n",
    "\n",
    "train = pd.read_csv(data_path + 'd_train_20180102.csv', encoding='gb2312')\n",
    "test = pd.read_csv(data_path + 'd_test_A_20180102.csv', encoding='gb2312')"
   ]
  },
  {
   "cell_type": "code",
   "execution_count": 7,
   "metadata": {
    "collapsed": true
   },
   "outputs": [],
   "source": [
    "def make_feat(train, test):\n",
    "    train_id = train.id.values.copy()\n",
    "    test_id = test.id.values.copy()\n",
    "    train = train[train['年龄']>=16]\n",
    "    train = train[train['血糖']<=18]\n",
    "\n",
    "    data = pd.concat([train, test])\n",
    "\n",
    "    data['性别'] = data['性别'].map({'男': 1, '女': 0,'??':1})\n",
    "\n",
    "    # data['体检日期'] = (pd.to_datetime(data['体检日期']) - parse('2017-10-09')).dt.days\n",
    "    # del data['体检日期']\n",
    "    data.drop(['乙肝表面抗原', '乙肝表面抗体', '乙肝e抗原', '乙肝e抗体', '乙肝核心抗体','体检日期'], axis=1, inplace=True)\n",
    "\n",
    "    # data.fillna(data.median(axis=0))\n",
    "\n",
    "    train_feat = data[data.id.isin(train_id)]\n",
    "    test_feat = data[data.id.isin(test_id)]\n",
    "\n",
    "    del train_feat['id']\n",
    "    del test_feat['id']\n",
    "    return train_feat, test_feat"
   ]
  },
  {
   "cell_type": "code",
   "execution_count": null,
   "metadata": {
    "collapsed": true
   },
   "outputs": [],
   "source": []
  }
 ],
 "metadata": {
  "kernelspec": {
   "display_name": "Python [default]",
   "language": "python",
   "name": "python3"
  },
  "language_info": {
   "codemirror_mode": {
    "name": "ipython",
    "version": 3
   },
   "file_extension": ".py",
   "mimetype": "text/x-python",
   "name": "python",
   "nbconvert_exporter": "python",
   "pygments_lexer": "ipython3",
   "version": "3.5.4"
  }
 },
 "nbformat": 4,
 "nbformat_minor": 1
}
