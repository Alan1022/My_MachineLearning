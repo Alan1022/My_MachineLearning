{
 "cells": [
  {
   "cell_type": "code",
   "execution_count": 18,
   "metadata": {
    "collapsed": false
   },
   "outputs": [],
   "source": [
    "import time\n",
    "import datetime\n",
    "import numpy as np\n",
    "import pandas as pd\n",
    "import lightgbm as lgb\n",
    "from dateutil.parser import parse\n",
    "from sklearn.model_selection import KFold\n",
    "from sklearn.metrics import mean_squared_error\n",
    "\n",
    "data_path = '/Users/alan/Downloads/github/kaggle/tc_jzyl/'\n",
    "\n",
    "train = pd.read_csv(data_path + 'd_train_20180102.csv', encoding='gb2312')\n",
    "test = pd.read_csv(data_path + 'd_test_A_20180102.csv', encoding='gb2312')"
   ]
  },
  {
   "cell_type": "code",
   "execution_count": 7,
   "metadata": {
    "collapsed": true
   },
   "outputs": [],
   "source": [
    "def make_feat(train, test):\n",
    "    train_id = train.id.values.copy()\n",
    "    test_id = test.id.values.copy()\n",
    "    train = train[train['年龄']>=16]\n",
    "    train = train[train['血糖']<=18]\n",
    "\n",
    "    data = pd.concat([train, test])\n",
    "\n",
    "    data['性别'] = data['性别'].map({'男': 1, '女': 0,'??':1})\n",
    "\n",
    "    # data['体检日期'] = (pd.to_datetime(data['体检日期']) - parse('2017-10-09')).dt.days\n",
    "    # del data['体检日期']\n",
    "    data.drop(['乙肝表面抗原', '乙肝表面抗体', '乙肝e抗原', '乙肝e抗体', '乙肝核心抗体','体检日期'], axis=1, inplace=True)\n",
    "\n",
    "    # data.fillna(data.median(axis=0))\n",
    "\n",
    "    train_feat = data[data.id.isin(train_id)]\n",
    "    test_feat = data[data.id.isin(test_id)]\n",
    "\n",
    "    del train_feat['id']\n",
    "    del test_feat['id']\n",
    "    return train_feat, test_feat"
   ]
  },
  {
   "cell_type": "code",
   "execution_count": 9,
   "metadata": {
    "collapsed": true
   },
   "outputs": [],
   "source": [
    "train_feat, test_feat = make_feat(train, test)\n",
    "\n",
    "predictors = [f for f in test_feat.columns if f not in ['血糖']]"
   ]
  },
  {
   "cell_type": "code",
   "execution_count": 13,
   "metadata": {
    "collapsed": false
   },
   "outputs": [],
   "source": [
    "def evalerror(pred, df):\n",
    "    label = df.get_label().values.copy()\n",
    "    score = mean_squared_error(label, pred) * 0.5\n",
    "    return ('mse', score, False)"
   ]
  },
  {
   "cell_type": "code",
   "execution_count": 14,
   "metadata": {
    "collapsed": true
   },
   "outputs": [],
   "source": [
    "# 后验修正\n",
    "def xx(x):\n",
    "    max_x = max(x) * 0.95\n",
    "    qut_x =  max(x) * 0.9\n",
    "    min_x = max(x) * 0.25\n",
    "\n",
    "    # for i,t in enumerate(x):\n",
    "    #     if x[i] >= max_x:\n",
    "    #         x[i] = x[i] * 1.5\n",
    "    #     elif (x[i] < max_x) & (x[i] >= qut_x):\n",
    "    #         x[i] = x[i] * 1.25\n",
    "    #     elif x[i] <= min_x:\n",
    "    #         x[i] = x[i] * 0.75\n",
    "    #     else:\n",
    "            # x[i] = x[i]\n",
    "    return x"
   ]
  },
  {
   "cell_type": "code",
   "execution_count": 15,
   "metadata": {
    "collapsed": false
   },
   "outputs": [
    {
     "name": "stdout",
     "output_type": "stream",
     "text": [
      "开始训练...\n"
     ]
    }
   ],
   "source": [
    "print('开始训练...')\n",
    "params = {\n",
    "    'learning_rate': 0.01,\n",
    "    'boosting_type': 'gbdt',\n",
    "    'objective': 'regression',\n",
    "    'metric': 'mse',\n",
    "    'sub_feature': 0.9,\n",
    "    'num_leaves': 16,\n",
    "    'colsample_bytree': 0.9,\n",
    "    # 'feature_fraction': 0.9,\n",
    "    # 'min_data': 100,\n",
    "    # 'min_hessian': 1,\n",
    "    'verbose': -1,\n",
    "}"
   ]
  },
  {
   "cell_type": "code",
   "execution_count": 20,
   "metadata": {
    "collapsed": false
   },
   "outputs": [
    {
     "name": "stdout",
     "output_type": "stream",
     "text": [
      "开始CV 5折训练...\n"
     ]
    },
    {
     "ename": "TypeError",
     "evalue": "__init__() got an unexpected keyword argument 'n_folds'",
     "output_type": "error",
     "traceback": [
      "\u001b[0;31m---------------------------------------------------------------------------\u001b[0m",
      "\u001b[0;31mTypeError\u001b[0m                                 Traceback (most recent call last)",
      "\u001b[0;32m<ipython-input-20-ebda89a3707a>\u001b[0m in \u001b[0;36m<module>\u001b[0;34m()\u001b[0m\n\u001b[1;32m      6\u001b[0m \u001b[0;34m\u001b[0m\u001b[0m\n\u001b[1;32m      7\u001b[0m \u001b[0;34m\u001b[0m\u001b[0m\n\u001b[0;32m----> 8\u001b[0;31m \u001b[0mkf\u001b[0m \u001b[0;34m=\u001b[0m \u001b[0mKFold\u001b[0m\u001b[0;34m(\u001b[0m\u001b[0mlen\u001b[0m\u001b[0;34m(\u001b[0m\u001b[0mtrain_feat\u001b[0m\u001b[0;34m)\u001b[0m\u001b[0;34m,\u001b[0m \u001b[0mn_folds\u001b[0m\u001b[0;34m=\u001b[0m\u001b[0;36m5\u001b[0m\u001b[0;34m,\u001b[0m \u001b[0mshuffle\u001b[0m\u001b[0;34m=\u001b[0m\u001b[0;32mTrue\u001b[0m\u001b[0;34m,\u001b[0m \u001b[0mrandom_state\u001b[0m\u001b[0;34m=\u001b[0m\u001b[0;36m520\u001b[0m\u001b[0;34m)\u001b[0m\u001b[0;34m\u001b[0m\u001b[0m\n\u001b[0m\u001b[1;32m      9\u001b[0m \u001b[0;32mfor\u001b[0m \u001b[0mi\u001b[0m\u001b[0;34m,\u001b[0m \u001b[0;34m(\u001b[0m\u001b[0mtrain_index\u001b[0m\u001b[0;34m,\u001b[0m \u001b[0mtest_index\u001b[0m\u001b[0;34m)\u001b[0m \u001b[0;32min\u001b[0m \u001b[0menumerate\u001b[0m\u001b[0;34m(\u001b[0m\u001b[0mkf\u001b[0m\u001b[0;34m)\u001b[0m\u001b[0;34m:\u001b[0m\u001b[0;34m\u001b[0m\u001b[0m\n\u001b[1;32m     10\u001b[0m     \u001b[0mprint\u001b[0m\u001b[0;34m(\u001b[0m\u001b[0;34m'第{}次训练...'\u001b[0m\u001b[0;34m.\u001b[0m\u001b[0mformat\u001b[0m\u001b[0;34m(\u001b[0m\u001b[0mi\u001b[0m\u001b[0;34m)\u001b[0m\u001b[0;34m)\u001b[0m\u001b[0;34m\u001b[0m\u001b[0m\n",
      "\u001b[0;31mTypeError\u001b[0m: __init__() got an unexpected keyword argument 'n_folds'"
     ]
    }
   ],
   "source": [
    "print('开始CV 5折训练...')\n",
    "scores = []\n",
    "t0 = time.time()\n",
    "train_preds = np.zeros(train_feat.shape[0])\n",
    "test_preds = np.zeros((test_feat.shape[0], 5))\n",
    "\n",
    "\n",
    "kf = KFold(len(train_feat), n_folds=5, shuffle=True, random_state=520)\n",
    "for i, (train_index, test_index) in enumerate(kf):\n",
    "    print('第{}次训练...'.format(i))\n",
    "    train_feat1 = train_feat.iloc[train_index]\n",
    "    # print(train_feat1)\n",
    "    train_feat2 = train_feat.iloc[test_index]\n",
    "    lgb_train1 = lgb.Dataset(train_feat1[predictors], train_feat1['血糖'], categorical_feature=['性别'])\n",
    "    lgb_train2 = lgb.Dataset(train_feat2[predictors], train_feat2['血糖'])\n",
    "    gbm = lgb.train(params,\n",
    "                    lgb_train1,\n",
    "                    num_boost_round=3000,\n",
    "                    valid_sets=lgb_train2,\n",
    "                    verbose_eval=100,\n",
    "                    feval=evalerror,\n",
    "                    early_stopping_rounds=150)\n",
    "    feat_imp = pd.Series(gbm.feature_importance(), index=predictors).sort_values(ascending=False)\n",
    "    train_preds[test_index] += xx(gbm.predict(train_feat2[predictors]))\n",
    "    test_preds[:, i] = xx(gbm.predict(test_feat[predictors]))\n",
    "\n",
    "print('线下得分：    {}'.format(mean_squared_error(train_feat['血糖'], train_preds) * 0.5))\n",
    "print('CV训练用时{}秒'.format(time.time() - t0))\n",
    "print(train_preds)\n",
    "submission = pd.DataFrame({'pred': test_preds.mean(axis=1)})\n",
    "# submission.loc[submission.pred > 10,'pred'] = 20\n",
    "print(submission.describe())\n",
    "submission.to_csv(r'sub{}.csv'.format(datetime.datetime.now().strftime('%Y%m%d')), header=None,\n",
    "                  index=False, float_format='%.4f')"
   ]
  },
  {
   "cell_type": "code",
   "execution_count": null,
   "metadata": {
    "collapsed": true
   },
   "outputs": [],
   "source": []
  }
 ],
 "metadata": {
  "kernelspec": {
   "display_name": "Python [default]",
   "language": "python",
   "name": "python3"
  },
  "language_info": {
   "codemirror_mode": {
    "name": "ipython",
    "version": 3
   },
   "file_extension": ".py",
   "mimetype": "text/x-python",
   "name": "python",
   "nbconvert_exporter": "python",
   "pygments_lexer": "ipython3",
   "version": "3.5.4"
  }
 },
 "nbformat": 4,
 "nbformat_minor": 1
}
