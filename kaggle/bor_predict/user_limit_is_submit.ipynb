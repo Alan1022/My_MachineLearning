{
 "cells": [
  {
   "cell_type": "code",
   "execution_count": 96,
   "metadata": {
    "collapsed": false
   },
   "outputs": [],
   "source": [
    "import pandas as pd\n",
    "#导入逻辑回归模型\n",
    "from sklearn.linear_model import LogisticRegression\n",
    "from sklearn.model_selection import cross_val_score\n",
    "#引入交叉验证的包\n",
    "df=pd.read_csv('/Users/alan/Downloads/github/sklearn/user_limit_train.csv')\n",
    "# df.head()"
   ]
  },
  {
   "cell_type": "code",
   "execution_count": 97,
   "metadata": {
    "collapsed": false
   },
   "outputs": [],
   "source": [
    "# df.describe()"
   ]
  },
  {
   "cell_type": "code",
   "execution_count": 98,
   "metadata": {
    "collapsed": false
   },
   "outputs": [
    {
     "data": {
      "text/plain": [
       "array([0, 1])"
      ]
     },
     "execution_count": 98,
     "metadata": {},
     "output_type": "execute_result"
    }
   ],
   "source": [
    "# 是否进件\n",
    "df['is_submit'].unique()"
   ]
  },
  {
   "cell_type": "code",
   "execution_count": 99,
   "metadata": {
    "collapsed": false
   },
   "outputs": [
    {
     "data": {
      "text/plain": [
       "0    88557\n",
       "1    11443\n",
       "Name: is_submit, dtype: int64"
      ]
     },
     "execution_count": 99,
     "metadata": {},
     "output_type": "execute_result"
    }
   ],
   "source": [
    "df['is_submit'].value_counts()"
   ]
  },
  {
   "cell_type": "code",
   "execution_count": 100,
   "metadata": {
    "collapsed": false
   },
   "outputs": [
    {
     "data": {
      "text/plain": [
       "Index(['est_id', 'passport_id', 'est_tm', 'est_is_succ', 'est_gps_province_cd',\n",
       "       'est_gps_city_cd', 'est_quota', 'est_period', 'est_system',\n",
       "       'bus_type_cd', 'est_origin', 'est_platform', 'first_audit_is_pass',\n",
       "       'subm_status', 'submit_first_audit_tm', 'info_modify_tm', 'apply_amt',\n",
       "       'apply_limit_dt', 'credit_score', 'subm_apply_is_pass',\n",
       "       'rule_engine_process_result', 'first_audit_limit_dt',\n",
       "       'first_audit_rate', 'first_audit_amt', 'is_submit'],\n",
       "      dtype='object')"
      ]
     },
     "execution_count": 100,
     "metadata": {},
     "output_type": "execute_result"
    }
   ],
   "source": [
    "df.columns"
   ]
  },
  {
   "cell_type": "code",
   "execution_count": 101,
   "metadata": {
    "collapsed": false
   },
   "outputs": [],
   "source": [
    "# 选取特征变量  'est_tm','submit_first_audit_tm','est_gps_province_cd','est_gps_city_cd', \n",
    "# 预估时间、预估是否成功、预估省份、预估城市、预估额度、预估期限、预估手机系统、预估业务类型、预估来源、预估渠道、初审是否通过、初审状态、\n",
    "# 初审时间、申请金额、申请期限、信用分数、初审是否通过、规则引擎是否通过、提交初审期限、初审费率、初审金额\n",
    "predictors=['est_is_succ', 'est_quota', 'est_period', 'est_system',\n",
    "       'bus_type_cd', 'est_origin', 'est_platform', 'first_audit_is_pass','subm_status',  'apply_amt',\n",
    "       'apply_limit_dt', 'credit_score', 'subm_apply_is_pass',\n",
    "       'rule_engine_process_result', 'first_audit_limit_dt',\n",
    "       'first_audit_rate', 'first_audit_amt']"
   ]
  },
  {
   "cell_type": "code",
   "execution_count": 102,
   "metadata": {
    "collapsed": false
   },
   "outputs": [
    {
     "data": {
      "text/plain": [
       "['est_is_succ',\n",
       " 'est_quota',\n",
       " 'est_period',\n",
       " 'est_system',\n",
       " 'bus_type_cd',\n",
       " 'est_origin',\n",
       " 'est_platform',\n",
       " 'first_audit_is_pass',\n",
       " 'subm_status',\n",
       " 'apply_amt',\n",
       " 'apply_limit_dt',\n",
       " 'credit_score',\n",
       " 'subm_apply_is_pass',\n",
       " 'rule_engine_process_result',\n",
       " 'first_audit_limit_dt',\n",
       " 'first_audit_rate',\n",
       " 'first_audit_amt']"
      ]
     },
     "execution_count": 102,
     "metadata": {},
     "output_type": "execute_result"
    }
   ],
   "source": [
    "predictors"
   ]
  },
  {
   "cell_type": "code",
   "execution_count": 103,
   "metadata": {
    "collapsed": false
   },
   "outputs": [],
   "source": [
    "# 预测用户是否可以进件\n",
    "# df[predictors]"
   ]
  },
  {
   "cell_type": "code",
   "execution_count": 104,
   "metadata": {
    "collapsed": false
   },
   "outputs": [],
   "source": [
    "# df.dropna()"
   ]
  },
  {
   "cell_type": "code",
   "execution_count": 105,
   "metadata": {
    "collapsed": true
   },
   "outputs": [],
   "source": [
    "# 训练数据\n",
    "train_data=df[predictors]\n",
    "target_data=df['is_submit']"
   ]
  },
  {
   "cell_type": "code",
   "execution_count": 106,
   "metadata": {
    "collapsed": false
   },
   "outputs": [
    {
     "name": "stderr",
     "output_type": "stream",
     "text": [
      "/Users/alan/anaconda/lib/python3.5/site-packages/sklearn/feature_selection/univariate_selection.py:113: UserWarning: Features [11 12] are constant.\n",
      "  UserWarning)\n",
      "/Users/alan/anaconda/lib/python3.5/site-packages/sklearn/feature_selection/univariate_selection.py:114: RuntimeWarning: invalid value encountered in true_divide\n",
      "  f = msb / msw\n",
      "/Users/alan/anaconda/lib/python3.5/site-packages/ipykernel/__main__.py:10: RuntimeWarning: divide by zero encountered in log10\n"
     ]
    },
    {
     "data": {
      "image/png": "[encoded data removed]",
      "text/plain": [
       "<matplotlib.figure.Figure at 0x110a17b00>"
      ]
     },
     "metadata": {},
     "output_type": "display_data"
    }
   ],
   "source": [
    "# 特征选择：相关系数\n",
    "from sklearn.feature_selection import SelectKBest, f_classif\n",
    "import numpy as np\n",
    "selector = SelectKBest(f_classif, k=5)\n",
    "# 第一个参数：所有特征数据 第二个参数：真实数据的标签\n",
    "selector.fit(train_data,target_data)\n",
    "# selector.pvalues_\n",
    "\n",
    "# 获取每个要素的原始p值，并将其从p值转换为分数\n",
    "scores = -np.log10(selector.pvalues_)\n",
    "\n",
    "# 绘制分数\n",
    "plt.bar(range(len(predictors)), scores)\n",
    "plt.xticks(range(len(predictors)), predictors, rotation='vertical')\n",
    "plt.show()"
   ]
  },
  {
   "cell_type": "code",
   "execution_count": 110,
   "metadata": {
    "collapsed": false
   },
   "outputs": [],
   "source": [
    "# 特征选择最终版\n",
    "predictors=['est_quota','est_system','est_platform','first_audit_limit_dt','first_audit_rate', 'first_audit_amt']"
   ]
  },
  {
   "cell_type": "code",
   "execution_count": 111,
   "metadata": {
    "collapsed": true
   },
   "outputs": [],
   "source": [
    "# 训练数据特征选择\n",
    "train_data=df[predictors]\n",
    "target_data=df['is_submit']"
   ]
  },
  {
   "cell_type": "code",
   "execution_count": 112,
   "metadata": {
    "collapsed": false
   },
   "outputs": [],
   "source": [
    "# 导入各种算法包\n",
    "from sklearn import tree\n",
    "from sklearn import ensemble\n",
    "from sklearn import linear_model\n",
    "from sklearn import svm"
   ]
  },
  {
   "cell_type": "code",
   "execution_count": 113,
   "metadata": {
    "collapsed": false
   },
   "outputs": [
    {
     "name": "stdout",
     "output_type": "stream",
     "text": [
      "logistic regression accuracy:\n",
      "[ 0.88845558  0.88705565  0.888       0.88774439  0.88729436]\n"
     ]
    },
    {
     "data": {
      "text/plain": [
       "0.88770999527527505"
      ]
     },
     "execution_count": 113,
     "metadata": {},
     "output_type": "execute_result"
    }
   ],
   "source": [
    "# 1、逻辑回归\n",
    "lr = linear_model.LogisticRegression()\n",
    "lr_scores = cross_val_score(lr, train_data,target_data,cv=5)\n",
    "print(\"logistic regression accuracy:\")\n",
    "print(lr_scores)\n",
    "lr_scores.mean()"
   ]
  },
  {
   "cell_type": "code",
   "execution_count": 114,
   "metadata": {
    "collapsed": false
   },
   "outputs": [
    {
     "name": "stdout",
     "output_type": "stream",
     "text": [
      "decision tree accuracy:\n",
      "[ 0.92120394  0.92285386  0.9186      0.91829591  0.920046  ]\n"
     ]
    },
    {
     "data": {
      "text/plain": [
       "0.92019994284119977"
      ]
     },
     "execution_count": 114,
     "metadata": {},
     "output_type": "execute_result"
    }
   ],
   "source": [
    "# 2、决策树\n",
    "clf = tree.DecisionTreeClassifier(criterion='entropy', max_depth=8, min_samples_split=5)\n",
    "clf_scores = cross_val_score(clf,train_data,target_data, cv=5)\n",
    "print(\"decision tree accuracy:\")\n",
    "print(clf_scores)\n",
    "clf_scores.mean()"
   ]
  },
  {
   "cell_type": "code",
   "execution_count": 115,
   "metadata": {
    "collapsed": false
   },
   "outputs": [
    {
     "name": "stdout",
     "output_type": "stream",
     "text": [
      "random forest accuracy:\n",
      "[ 0.92140393  0.92150392  0.91935     0.91549577  0.91849592]\n"
     ]
    },
    {
     "data": {
      "text/plain": [
       "0.91924991083844976"
      ]
     },
     "execution_count": 115,
     "metadata": {},
     "output_type": "execute_result"
    }
   ],
   "source": [
    "# 3、随机森林\n",
    "rfc = ensemble.RandomForestClassifier(criterion='entropy', n_estimators=3, max_features=0.5, min_samples_split=5)\n",
    "rfc_scores = cross_val_score(rfc,train_data,target_data, cv=5)\n",
    "print(\"random forest accuracy:\")\n",
    "print(rfc_scores)\n",
    "rfc_scores.mean()"
   ]
  },
  {
   "cell_type": "code",
   "execution_count": 116,
   "metadata": {
    "collapsed": false
   },
   "outputs": [
    {
     "name": "stdout",
     "output_type": "stream",
     "text": [
      "extra trees accuracy:\n",
      "[ 0.92045398  0.92050397  0.9196      0.91644582  0.91839592]\n"
     ]
    },
    {
     "data": {
      "text/plain": [
       "0.91907993883789985"
      ]
     },
     "execution_count": 116,
     "metadata": {},
     "output_type": "execute_result"
    }
   ],
   "source": [
    "# 4、极端随机树\n",
    "etc = ensemble.ExtraTreesClassifier(criterion='entropy', n_estimators=3, max_features=0.6, min_samples_split=5)\n",
    "etc_scores = cross_val_score(etc,train_data,target_data, cv=5)\n",
    "print(\"extra trees accuracy:\")\n",
    "print(etc_scores)\n",
    "etc_scores.mean()"
   ]
  },
  {
   "cell_type": "code",
   "execution_count": 117,
   "metadata": {
    "collapsed": false
   },
   "outputs": [
    {
     "name": "stdout",
     "output_type": "stream",
     "text": [
      "gradient boosting accuracy:\n",
      "[ 0.90940453  0.91070446  0.9086      0.90374519  0.90329516]\n"
     ]
    },
    {
     "data": {
      "text/plain": [
       "0.90714986931357466"
      ]
     },
     "execution_count": 117,
     "metadata": {},
     "output_type": "execute_result"
    }
   ],
   "source": [
    "# 5、梯度提升\n",
    "gbc = ensemble.GradientBoostingClassifier()\n",
    "gbc_scores = cross_val_score(gbc,train_data,target_data, cv=5)\n",
    "print(\"gradient boosting accuracy:\")\n",
    "print(gbc_scores)\n",
    "gbc_scores.mean()"
   ]
  },
  {
   "cell_type": "code",
   "execution_count": 118,
   "metadata": {
    "collapsed": false
   },
   "outputs": [
    {
     "name": "stdout",
     "output_type": "stream",
     "text": [
      "svm classifier accuracy:\n",
      "[ 0.92170391  0.92295385  0.91995     0.91829591  0.91909595]\n"
     ]
    },
    {
     "data": {
      "text/plain": [
       "0.92039992734102472"
      ]
     },
     "execution_count": 118,
     "metadata": {},
     "output_type": "execute_result"
    }
   ],
   "source": [
    "# 6、SVM支持向量机\n",
    "svc = svm.SVC()\n",
    "svc_scores = cross_val_score(svc,train_data,target_data, cv=5)\n",
    "print(\"svm classifier accuracy:\")\n",
    "print(svc_scores)\n",
    "svc_scores.mean()"
   ]
  },
  {
   "cell_type": "code",
   "execution_count": 119,
   "metadata": {
    "collapsed": false
   },
   "outputs": [
    {
     "name": "stdout",
     "output_type": "stream",
     "text": [
      "AdaBoostingClassfier accuracy:\n",
      "[ 0.89980501  0.89860507  0.89625     0.89169458  0.8939447 ]\n"
     ]
    },
    {
     "data": {
      "text/plain": [
       "0.89605987229202455"
      ]
     },
     "execution_count": 119,
     "metadata": {},
     "output_type": "execute_result"
    }
   ],
   "source": [
    "# 7、adboosting\n",
    "abc=ensemble.AdaBoostClassifier(n_estimators=100) #迭代100次  \n",
    "abc_scores = cross_val_score(abc,train_data,target_data, cv=5)\n",
    "print ('AdaBoostingClassfier accuracy:')\n",
    "print (abc_scores)\n",
    "abc_scores.mean()"
   ]
  },
  {
   "cell_type": "code",
   "execution_count": 120,
   "metadata": {
    "collapsed": false
   },
   "outputs": [
    {
     "data": {
      "text/plain": [
       "['/Users/alan/Downloads/github/sklearn/gbc.model']"
      ]
     },
     "execution_count": 120,
     "metadata": {},
     "output_type": "execute_result"
    }
   ],
   "source": [
    "# import pickle\n",
    "# bin_file = open(r'/Users/alan/Downloads/github/sklearn/gbc.model', 'wb')\n",
    "# pickle.dump(bins, bin_file)\n",
    "# bin_file.close()\n",
    "# 由于梯度提升的算法准确率最高，所以我们选择此算法作为我们的训练模型算法\n",
    "gbc=gbc.fit(train_data,target_data)\n",
    "#模型持久化\n",
    "from sklearn.externals import joblib\n",
    "joblib.dump(gbc, '/Users/alan/Downloads/github/sklearn/gbc.model')"
   ]
  },
  {
   "cell_type": "code",
   "execution_count": 121,
   "metadata": {
    "collapsed": true
   },
   "outputs": [],
   "source": [
    "# 使用持久化后的模型进行新数据预测,导入模型\n",
    "gbc=joblib.load('/Users/alan/Downloads/github/sklearn/gbc.model')"
   ]
  },
  {
   "cell_type": "code",
   "execution_count": 122,
   "metadata": {
    "collapsed": false
   },
   "outputs": [],
   "source": [
    "# 导入最新的数据\n",
    "test_train=pd.read_csv('/Users/alan/Downloads/github/sklearn/test_data.csv')\n",
    "# test_train\n",
    "test_data=test_train[predictors]\n",
    "# test_data"
   ]
  },
  {
   "cell_type": "code",
   "execution_count": 123,
   "metadata": {
    "collapsed": false
   },
   "outputs": [
    {
     "data": {
      "text/plain": [
       "array([0, 0, 0, ..., 0, 0, 0])"
      ]
     },
     "execution_count": 123,
     "metadata": {},
     "output_type": "execute_result"
    }
   ],
   "source": [
    "# 预测数据\n",
    "result=gbc.predict(test_data)\n",
    "result"
   ]
  },
  {
   "cell_type": "code",
   "execution_count": 124,
   "metadata": {
    "collapsed": false
   },
   "outputs": [],
   "source": [
    "# 创建新的数据集，只保存主键id和预测结果\n",
    "prediction_data=pd.DataFrame({'est_id':test_train['est_id'],'is_submit':result})\n",
    "# prediction_data"
   ]
  },
  {
   "cell_type": "code",
   "execution_count": 125,
   "metadata": {
    "collapsed": true
   },
   "outputs": [],
   "source": [
    "# 保存预测结果数据，去除掉索引列\n",
    "prediction_data.to_csv('/Users/alan/Downloads/github/sklearn/predictions.csv',index=False)"
   ]
  },
  {
   "cell_type": "code",
   "execution_count": 126,
   "metadata": {
    "collapsed": false
   },
   "outputs": [
    {
     "data": {
      "text/plain": [
       "0.96399774985936626"
      ]
     },
     "execution_count": 126,
     "metadata": {},
     "output_type": "execute_result"
    }
   ],
   "source": [
    "# 用测试集进行模型评估\n",
    "# 1、准确率：用真实标签和预测标签比较，来得到准确率\n",
    "from sklearn import metrics\n",
    "metrics.accuracy_score(test_train['is_submit'], result)"
   ]
  },
  {
   "cell_type": "code",
   "execution_count": 127,
   "metadata": {
    "collapsed": false
   },
   "outputs": [
    {
     "data": {
      "text/plain": [
       "0.79436358911904592"
      ]
     },
     "execution_count": 127,
     "metadata": {},
     "output_type": "execute_result"
    }
   ],
   "source": [
    "# 2、计算AUC值\n",
    "# 第一种方法：自定义函数\n",
    "from sklearn import metrics\n",
    "def aucfunc(target,predic):\n",
    "    fpr,tpr,thresholds=metrics.roc_curve(target,predic,pos_label=1)\n",
    "    return metrics.auc(fpr,tpr)\n",
    "aucfunc(test_train['is_submit'], result)"
   ]
  },
  {
   "cell_type": "code",
   "execution_count": 128,
   "metadata": {
    "collapsed": false
   },
   "outputs": [
    {
     "data": {
      "text/plain": [
       "0.79436358911904592"
      ]
     },
     "execution_count": 128,
     "metadata": {},
     "output_type": "execute_result"
    }
   ],
   "source": [
    "# 第二种方法：直接调已有函数\n",
    "# 第一个参数是真实的标签，第二个参数是预测标签\n",
    "metrics.roc_auc_score(test_train['is_submit'], result)"
   ]
  },
  {
   "cell_type": "code",
   "execution_count": 129,
   "metadata": {
    "collapsed": false
   },
   "outputs": [
    {
     "data": {
      "image/png": "[encoded data removed]",
      "text/plain": [
       "<matplotlib.figure.Figure at 0x1044612e8>"
      ]
     },
     "metadata": {},
     "output_type": "display_data"
    }
   ],
   "source": [
    "# 画出ROC曲线\n",
    "import matplotlib.pyplot as plt\n",
    "fpr, tpr, thresholds = metrics.roc_curve(test_train['is_submit'], result)\n",
    "plt.figure()\n",
    "plt.plot(fpr, tpr)\n",
    "plt.xlim([0.0, 1.0])\n",
    "plt.ylim([0.0, 1.0])\n",
    "plt.title('ROC curve for diabetes classifier')\n",
    "plt.xlabel('False Positive Rate (1 - Specificity)')\n",
    "plt.ylabel('True Positive Rate (Sensitivity)')\n",
    "plt.grid(True)\n",
    "plt.show()"
   ]
  },
  {
   "cell_type": "code",
   "execution_count": 130,
   "metadata": {
    "collapsed": false
   },
   "outputs": [
    {
     "data": {
      "text/plain": [
       "array([ 0.       ,  0.5961039,  1.       ])"
      ]
     },
     "execution_count": 130,
     "metadata": {},
     "output_type": "execute_result"
    }
   ],
   "source": [
    "# 显示真正率(y轴)\n",
    "tpr"
   ]
  },
  {
   "cell_type": "code",
   "execution_count": 131,
   "metadata": {
    "collapsed": false
   },
   "outputs": [
    {
     "data": {
      "text/plain": [
       "array([ 0.        ,  0.00737672,  1.        ])"
      ]
     },
     "execution_count": 131,
     "metadata": {},
     "output_type": "execute_result"
    }
   ],
   "source": [
    "# 假正率（X轴）\n",
    "fpr"
   ]
  },
  {
   "cell_type": "code",
   "execution_count": 132,
   "metadata": {
    "collapsed": false
   },
   "outputs": [
    {
     "name": "stdout",
     "output_type": "stream",
     "text": [
      "Sensitivity: 0.596103896104\n",
      "Specificity: 0.992623282134\n"
     ]
    }
   ],
   "source": [
    "# 定义接受阈值并打印灵敏度和特异性的函数\n",
    "def evaluate_threshold(threshold):\n",
    "    print ('Sensitivity:', tpr[thresholds > threshold][-1])\n",
    "    print ('Specificity:', 1 - fpr[thresholds > threshold][-1])\n",
    "\n",
    "evaluate_threshold(0.5)"
   ]
  }
 ],
 "metadata": {
  "anaconda-cloud": {},
  "kernelspec": {
   "display_name": "Python [conda root]",
   "language": "python",
   "name": "conda-root-py"
  },
  "language_info": {
   "codemirror_mode": {
    "name": "ipython",
    "version": 3
   },
   "file_extension": ".py",
   "mimetype": "text/x-python",
   "name": "python",
   "nbconvert_exporter": "python",
   "pygments_lexer": "ipython3",
   "version": "3.5.4"
  }
 },
 "nbformat": 4,
 "nbformat_minor": 1
}
