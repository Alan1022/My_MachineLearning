{
 "cells": [
  {
   "cell_type": "code",
   "execution_count": 12,
   "metadata": {
    "collapsed": false
   },
   "outputs": [
    {
     "data": {
      "text/plain": [
       "Index(['id', '性别', '年龄', '体检日期', '*天门冬氨酸氨基转换酶', '*丙氨酸氨基转换酶', '*碱性磷酸酶',\n",
       "       '*r-谷氨酰基转换酶', '*总蛋白', '白蛋白', '*球蛋白', '白球比例', '甘油三酯', '总胆固醇',\n",
       "       '高密度脂蛋白胆固醇', '低密度脂蛋白胆固醇', '尿素', '肌酐', '尿酸', '乙肝表面抗原', '乙肝表面抗体', '乙肝e抗原',\n",
       "       '乙肝e抗体', '乙肝核心抗体', '白细胞计数', '红细胞计数', '血红蛋白', '红细胞压积', '红细胞平均体积',\n",
       "       '红细胞平均血红蛋白量', '红细胞平均血红蛋白浓度', '红细胞体积分布宽度', '血小板计数', '血小板平均体积',\n",
       "       '血小板体积分布宽度', '血小板比积', '中性粒细胞%', '淋巴细胞%', '单核细胞%', '嗜酸细胞%', '嗜碱细胞%'],\n",
       "      dtype='object')"
      ]
     },
     "execution_count": 12,
     "metadata": {},
     "output_type": "execute_result"
    }
   ],
   "source": [
    "import pandas as pd\n",
    "from sklearn.cross_validation import train_test_split\n",
    "df = pd.read_csv(\"./d_test_A_20180102.csv\",sep=\",\",encoding=\"gbk\")\n",
    "df.columns"
   ]
  },
  {
   "cell_type": "code",
   "execution_count": 15,
   "metadata": {
    "collapsed": false
   },
   "outputs": [],
   "source": [
    "X = df.iloc[:,1:10]\n",
    "Y = df[\"嗜碱细胞%\"]"
   ]
  },
  {
   "cell_type": "code",
   "execution_count": 18,
   "metadata": {
    "collapsed": false
   },
   "outputs": [],
   "source": [
    "x_train,x_test,y_train,y_test = train_test_split(X,Y,test_size=0.3,random_state=1)"
   ]
  },
  {
   "cell_type": "code",
   "execution_count": 24,
   "metadata": {
    "collapsed": false
   },
   "outputs": [
    {
     "data": {
      "text/html": [
       "<div>\n",
       "<style>\n",
       "    .dataframe thead tr:only-child th {\n",
       "        text-align: right;\n",
       "    }\n",
       "\n",
       "    .dataframe thead th {\n",
       "        text-align: left;\n",
       "    }\n",
       "\n",
       "    .dataframe tbody tr th {\n",
       "        vertical-align: top;\n",
       "    }\n",
       "</style>\n",
       "<table border=\"1\" class=\"dataframe\">\n",
       "  <thead>\n",
       "    <tr style=\"text-align: right;\">\n",
       "      <th></th>\n",
       "      <th>性别</th>\n",
       "      <th>年龄</th>\n",
       "      <th>体检日期</th>\n",
       "      <th>*天门冬氨酸氨基转换酶</th>\n",
       "      <th>*丙氨酸氨基转换酶</th>\n",
       "      <th>*碱性磷酸酶</th>\n",
       "      <th>*r-谷氨酰基转换酶</th>\n",
       "      <th>*总蛋白</th>\n",
       "      <th>白蛋白</th>\n",
       "    </tr>\n",
       "  </thead>\n",
       "  <tbody>\n",
       "    <tr>\n",
       "      <th>731</th>\n",
       "      <td>男</td>\n",
       "      <td>58</td>\n",
       "      <td>18/10/2017</td>\n",
       "      <td>17.37</td>\n",
       "      <td>9.15</td>\n",
       "      <td>88.27</td>\n",
       "      <td>24.54</td>\n",
       "      <td>71.87</td>\n",
       "      <td>42.54</td>\n",
       "    </tr>\n",
       "    <tr>\n",
       "      <th>716</th>\n",
       "      <td>男</td>\n",
       "      <td>31</td>\n",
       "      <td>17/10/2017</td>\n",
       "      <td>25.85</td>\n",
       "      <td>17.66</td>\n",
       "      <td>130.12</td>\n",
       "      <td>35.88</td>\n",
       "      <td>73.42</td>\n",
       "      <td>47.00</td>\n",
       "    </tr>\n",
       "    <tr>\n",
       "      <th>640</th>\n",
       "      <td>男</td>\n",
       "      <td>55</td>\n",
       "      <td>17/10/2017</td>\n",
       "      <td>59.71</td>\n",
       "      <td>51.65</td>\n",
       "      <td>100.60</td>\n",
       "      <td>83.03</td>\n",
       "      <td>75.06</td>\n",
       "      <td>44.23</td>\n",
       "    </tr>\n",
       "    <tr>\n",
       "      <th>804</th>\n",
       "      <td>男</td>\n",
       "      <td>25</td>\n",
       "      <td>18/10/2017</td>\n",
       "      <td>37.29</td>\n",
       "      <td>22.41</td>\n",
       "      <td>85.07</td>\n",
       "      <td>18.30</td>\n",
       "      <td>69.38</td>\n",
       "      <td>44.56</td>\n",
       "    </tr>\n",
       "    <tr>\n",
       "      <th>737</th>\n",
       "      <td>男</td>\n",
       "      <td>63</td>\n",
       "      <td>18/10/2017</td>\n",
       "      <td>31.76</td>\n",
       "      <td>24.82</td>\n",
       "      <td>88.51</td>\n",
       "      <td>31.87</td>\n",
       "      <td>72.07</td>\n",
       "      <td>45.47</td>\n",
       "    </tr>\n",
       "  </tbody>\n",
       "</table>\n",
       "</div>"
      ],
      "text/plain": [
       "    性别  年龄        体检日期  *天门冬氨酸氨基转换酶  *丙氨酸氨基转换酶  *碱性磷酸酶  *r-谷氨酰基转换酶   *总蛋白  \\\n",
       "731  男  58  18/10/2017        17.37       9.15   88.27       24.54  71.87   \n",
       "716  男  31  17/10/2017        25.85      17.66  130.12       35.88  73.42   \n",
       "640  男  55  17/10/2017        59.71      51.65  100.60       83.03  75.06   \n",
       "804  男  25  18/10/2017        37.29      22.41   85.07       18.30  69.38   \n",
       "737  男  63  18/10/2017        31.76      24.82   88.51       31.87  72.07   \n",
       "\n",
       "       白蛋白  \n",
       "731  42.54  \n",
       "716  47.00  \n",
       "640  44.23  \n",
       "804  44.56  \n",
       "737  45.47  "
      ]
     },
     "execution_count": 24,
     "metadata": {},
     "output_type": "execute_result"
    }
   ],
   "source": [
    "x_train.head()"
   ]
  },
  {
   "cell_type": "code",
   "execution_count": 23,
   "metadata": {
    "collapsed": false
   },
   "outputs": [
    {
     "data": {
      "text/plain": [
       "731    0.3\n",
       "716    0.5\n",
       "640    1.6\n",
       "804    0.6\n",
       "737    0.5\n",
       "Name: 嗜碱细胞%, dtype: float64"
      ]
     },
     "execution_count": 23,
     "metadata": {},
     "output_type": "execute_result"
    }
   ],
   "source": [
    "y_train.head()"
   ]
  },
  {
   "cell_type": "code",
   "execution_count": null,
   "metadata": {
    "collapsed": true
   },
   "outputs": [],
   "source": []
  }
 ],
 "metadata": {
  "anaconda-cloud": {},
  "kernelspec": {
   "display_name": "Python [conda root]",
   "language": "python",
   "name": "conda-root-py"
  },
  "language_info": {
   "codemirror_mode": {
    "name": "ipython",
    "version": 3
   },
   "file_extension": ".py",
   "mimetype": "text/x-python",
   "name": "python",
   "nbconvert_exporter": "python",
   "pygments_lexer": "ipython3",
   "version": "3.5.4"
  }
 },
 "nbformat": 4,
 "nbformat_minor": 1
}
